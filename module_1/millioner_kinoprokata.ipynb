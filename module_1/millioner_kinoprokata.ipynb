{
 "cells": [
  {
   "cell_type": "code",
   "execution_count": 1,
   "metadata": {
    "_cell_guid": "b1076dfc-b9ad-4769-8c92-a6c4dae69d19",
    "_uuid": "8f2839f25d086af736a60e9eeb907d3b93b6e0e5",
    "colab": {},
    "colab_type": "code",
    "id": "U2D2gTdJVp90"
   },
   "outputs": [],
   "source": [
    "import numpy as np\n",
    "import pandas as pd\n",
    "import seaborn as sns\n",
    "import matplotlib.pyplot as plt\n",
    "from collections import Counter"
   ]
  },
  {
   "cell_type": "code",
   "execution_count": 2,
   "metadata": {
    "_cell_guid": "79c7e3d0-c299-4dcb-8224-4455121ee9b0",
    "_uuid": "d629ff2d2480ee46fbb7e2d37f6b5fab8052498a",
    "colab": {},
    "colab_type": "code",
    "id": "oyGfxL3eVp9-"
   },
   "outputs": [
    {
     "data": {
      "text/html": [
       "<div>\n",
       "<style scoped>\n",
       "    .dataframe tbody tr th:only-of-type {\n",
       "        vertical-align: middle;\n",
       "    }\n",
       "\n",
       "    .dataframe tbody tr th {\n",
       "        vertical-align: top;\n",
       "    }\n",
       "\n",
       "    .dataframe thead th {\n",
       "        text-align: right;\n",
       "    }\n",
       "</style>\n",
       "<table border=\"1\" class=\"dataframe\">\n",
       "  <thead>\n",
       "    <tr style=\"text-align: right;\">\n",
       "      <th></th>\n",
       "      <th>imdb_id</th>\n",
       "      <th>budget</th>\n",
       "      <th>revenue</th>\n",
       "      <th>original_title</th>\n",
       "      <th>cast</th>\n",
       "      <th>director</th>\n",
       "      <th>tagline</th>\n",
       "      <th>overview</th>\n",
       "      <th>runtime</th>\n",
       "      <th>genres</th>\n",
       "      <th>production_companies</th>\n",
       "      <th>release_date</th>\n",
       "      <th>vote_average</th>\n",
       "      <th>release_year</th>\n",
       "    </tr>\n",
       "  </thead>\n",
       "  <tbody>\n",
       "    <tr>\n",
       "      <th>1789</th>\n",
       "      <td>tt0765120</td>\n",
       "      <td>10000000</td>\n",
       "      <td>21786738</td>\n",
       "      <td>My Blueberry Nights</td>\n",
       "      <td>Norah Jones|Jude Law|David Strathairn|Rachel W...</td>\n",
       "      <td>Wong Kar-wai</td>\n",
       "      <td>How do you say goodbye to someone you can't im...</td>\n",
       "      <td>Elizabeth (Jones) has just been through a part...</td>\n",
       "      <td>111</td>\n",
       "      <td>Drama|Romance</td>\n",
       "      <td>Block 2 Pictures|Jet Tone Production|StudioCan...</td>\n",
       "      <td>5/16/2007</td>\n",
       "      <td>6.2</td>\n",
       "      <td>2007</td>\n",
       "    </tr>\n",
       "    <tr>\n",
       "      <th>1765</th>\n",
       "      <td>tt0435670</td>\n",
       "      <td>30000000</td>\n",
       "      <td>26810113</td>\n",
       "      <td>The Invisible</td>\n",
       "      <td>Justin Chatwin|Margarita Levieva|Marcia Gay Ha...</td>\n",
       "      <td>David S. Goyer</td>\n",
       "      <td>Life, death and something in between.</td>\n",
       "      <td>After an attack leaves him in limbo -- invisib...</td>\n",
       "      <td>102</td>\n",
       "      <td>Action|Adventure|Crime|Drama|Fantasy</td>\n",
       "      <td>Spyglass Entertainment|Hollywood Pictures|Birn...</td>\n",
       "      <td>4/27/2007</td>\n",
       "      <td>5.9</td>\n",
       "      <td>2007</td>\n",
       "    </tr>\n",
       "    <tr>\n",
       "      <th>1485</th>\n",
       "      <td>tt0443543</td>\n",
       "      <td>40000000</td>\n",
       "      <td>86915017</td>\n",
       "      <td>The Illusionist</td>\n",
       "      <td>Edward Norton|Jessica Biel|Paul Giamatti|Rufus...</td>\n",
       "      <td>Neil Burger</td>\n",
       "      <td>Nothing Is What It Seems.</td>\n",
       "      <td>With his eye on a lovely aristocrat, a gifted ...</td>\n",
       "      <td>110</td>\n",
       "      <td>Fantasy|Drama|Thriller|Romance</td>\n",
       "      <td>Michael London Productions|Stillking Films|Bob...</td>\n",
       "      <td>8/18/2006</td>\n",
       "      <td>7.0</td>\n",
       "      <td>2006</td>\n",
       "    </tr>\n",
       "    <tr>\n",
       "      <th>818</th>\n",
       "      <td>tt0377981</td>\n",
       "      <td>36000000</td>\n",
       "      <td>189712432</td>\n",
       "      <td>Gnomeo &amp; Juliet</td>\n",
       "      <td>James McAvoy|Michael Caine|Maggie Smith|Julie ...</td>\n",
       "      <td>Kelly Asbury</td>\n",
       "      <td>A little adventure goes a lawn way.</td>\n",
       "      <td>A version of Shakespeare's play, set in the wo...</td>\n",
       "      <td>84</td>\n",
       "      <td>Animation|Family</td>\n",
       "      <td>Starz Animation|Touchstone Pictures</td>\n",
       "      <td>1/13/2011</td>\n",
       "      <td>5.7</td>\n",
       "      <td>2011</td>\n",
       "    </tr>\n",
       "    <tr>\n",
       "      <th>1609</th>\n",
       "      <td>tt0327554</td>\n",
       "      <td>100000000</td>\n",
       "      <td>82102379</td>\n",
       "      <td>Catwoman</td>\n",
       "      <td>Halle Berry|Benjamin Bratt|Sharon Stone|Lamber...</td>\n",
       "      <td>Pitof</td>\n",
       "      <td>CATch Her In IMAX</td>\n",
       "      <td>Liquidated after discovering a corporate consp...</td>\n",
       "      <td>104</td>\n",
       "      <td>Action|Crime</td>\n",
       "      <td>Village Roadshow Pictures|DiNovi Pictures|Warn...</td>\n",
       "      <td>7/22/2004</td>\n",
       "      <td>4.3</td>\n",
       "      <td>2004</td>\n",
       "    </tr>\n",
       "  </tbody>\n",
       "</table>\n",
       "</div>"
      ],
      "text/plain": [
       "        imdb_id     budget    revenue       original_title  \\\n",
       "1789  tt0765120   10000000   21786738  My Blueberry Nights   \n",
       "1765  tt0435670   30000000   26810113        The Invisible   \n",
       "1485  tt0443543   40000000   86915017      The Illusionist   \n",
       "818   tt0377981   36000000  189712432      Gnomeo & Juliet   \n",
       "1609  tt0327554  100000000   82102379             Catwoman   \n",
       "\n",
       "                                                   cast        director  \\\n",
       "1789  Norah Jones|Jude Law|David Strathairn|Rachel W...    Wong Kar-wai   \n",
       "1765  Justin Chatwin|Margarita Levieva|Marcia Gay Ha...  David S. Goyer   \n",
       "1485  Edward Norton|Jessica Biel|Paul Giamatti|Rufus...     Neil Burger   \n",
       "818   James McAvoy|Michael Caine|Maggie Smith|Julie ...    Kelly Asbury   \n",
       "1609  Halle Berry|Benjamin Bratt|Sharon Stone|Lamber...           Pitof   \n",
       "\n",
       "                                                tagline  \\\n",
       "1789  How do you say goodbye to someone you can't im...   \n",
       "1765              Life, death and something in between.   \n",
       "1485                          Nothing Is What It Seems.   \n",
       "818                 A little adventure goes a lawn way.   \n",
       "1609                                  CATch Her In IMAX   \n",
       "\n",
       "                                               overview  runtime  \\\n",
       "1789  Elizabeth (Jones) has just been through a part...      111   \n",
       "1765  After an attack leaves him in limbo -- invisib...      102   \n",
       "1485  With his eye on a lovely aristocrat, a gifted ...      110   \n",
       "818   A version of Shakespeare's play, set in the wo...       84   \n",
       "1609  Liquidated after discovering a corporate consp...      104   \n",
       "\n",
       "                                    genres  \\\n",
       "1789                         Drama|Romance   \n",
       "1765  Action|Adventure|Crime|Drama|Fantasy   \n",
       "1485        Fantasy|Drama|Thriller|Romance   \n",
       "818                       Animation|Family   \n",
       "1609                          Action|Crime   \n",
       "\n",
       "                                   production_companies release_date  \\\n",
       "1789  Block 2 Pictures|Jet Tone Production|StudioCan...    5/16/2007   \n",
       "1765  Spyglass Entertainment|Hollywood Pictures|Birn...    4/27/2007   \n",
       "1485  Michael London Productions|Stillking Films|Bob...    8/18/2006   \n",
       "818                 Starz Animation|Touchstone Pictures    1/13/2011   \n",
       "1609  Village Roadshow Pictures|DiNovi Pictures|Warn...    7/22/2004   \n",
       "\n",
       "      vote_average  release_year  \n",
       "1789           6.2          2007  \n",
       "1765           5.9          2007  \n",
       "1485           7.0          2006  \n",
       "818            5.7          2011  \n",
       "1609           4.3          2004  "
      ]
     },
     "execution_count": 2,
     "metadata": {},
     "output_type": "execute_result"
    }
   ],
   "source": [
    "data = pd.read_csv('movie_bd_v5.csv')\n",
    "data.sample(5)"
   ]
  },
  {
   "cell_type": "code",
   "execution_count": 3,
   "metadata": {
    "colab": {},
    "colab_type": "code",
    "id": "CoYUnagMVp-C"
   },
   "outputs": [
    {
     "data": {
      "text/html": [
       "<div>\n",
       "<style scoped>\n",
       "    .dataframe tbody tr th:only-of-type {\n",
       "        vertical-align: middle;\n",
       "    }\n",
       "\n",
       "    .dataframe tbody tr th {\n",
       "        vertical-align: top;\n",
       "    }\n",
       "\n",
       "    .dataframe thead th {\n",
       "        text-align: right;\n",
       "    }\n",
       "</style>\n",
       "<table border=\"1\" class=\"dataframe\">\n",
       "  <thead>\n",
       "    <tr style=\"text-align: right;\">\n",
       "      <th></th>\n",
       "      <th>budget</th>\n",
       "      <th>revenue</th>\n",
       "      <th>runtime</th>\n",
       "      <th>vote_average</th>\n",
       "      <th>release_year</th>\n",
       "    </tr>\n",
       "  </thead>\n",
       "  <tbody>\n",
       "    <tr>\n",
       "      <th>count</th>\n",
       "      <td>1.889000e+03</td>\n",
       "      <td>1.889000e+03</td>\n",
       "      <td>1889.000000</td>\n",
       "      <td>1889.000000</td>\n",
       "      <td>1889.000000</td>\n",
       "    </tr>\n",
       "    <tr>\n",
       "      <th>mean</th>\n",
       "      <td>5.431083e+07</td>\n",
       "      <td>1.553653e+08</td>\n",
       "      <td>109.658549</td>\n",
       "      <td>6.140762</td>\n",
       "      <td>2007.860773</td>\n",
       "    </tr>\n",
       "    <tr>\n",
       "      <th>std</th>\n",
       "      <td>4.858721e+07</td>\n",
       "      <td>2.146698e+08</td>\n",
       "      <td>18.017041</td>\n",
       "      <td>0.764763</td>\n",
       "      <td>4.468841</td>\n",
       "    </tr>\n",
       "    <tr>\n",
       "      <th>min</th>\n",
       "      <td>5.000000e+06</td>\n",
       "      <td>2.033165e+06</td>\n",
       "      <td>63.000000</td>\n",
       "      <td>3.300000</td>\n",
       "      <td>2000.000000</td>\n",
       "    </tr>\n",
       "    <tr>\n",
       "      <th>25%</th>\n",
       "      <td>2.000000e+07</td>\n",
       "      <td>3.456058e+07</td>\n",
       "      <td>97.000000</td>\n",
       "      <td>5.600000</td>\n",
       "      <td>2004.000000</td>\n",
       "    </tr>\n",
       "    <tr>\n",
       "      <th>50%</th>\n",
       "      <td>3.800000e+07</td>\n",
       "      <td>8.361541e+07</td>\n",
       "      <td>107.000000</td>\n",
       "      <td>6.100000</td>\n",
       "      <td>2008.000000</td>\n",
       "    </tr>\n",
       "    <tr>\n",
       "      <th>75%</th>\n",
       "      <td>7.200000e+07</td>\n",
       "      <td>1.782626e+08</td>\n",
       "      <td>120.000000</td>\n",
       "      <td>6.600000</td>\n",
       "      <td>2012.000000</td>\n",
       "    </tr>\n",
       "    <tr>\n",
       "      <th>max</th>\n",
       "      <td>3.800000e+08</td>\n",
       "      <td>2.781506e+09</td>\n",
       "      <td>214.000000</td>\n",
       "      <td>8.100000</td>\n",
       "      <td>2015.000000</td>\n",
       "    </tr>\n",
       "  </tbody>\n",
       "</table>\n",
       "</div>"
      ],
      "text/plain": [
       "             budget       revenue      runtime  vote_average  release_year\n",
       "count  1.889000e+03  1.889000e+03  1889.000000   1889.000000   1889.000000\n",
       "mean   5.431083e+07  1.553653e+08   109.658549      6.140762   2007.860773\n",
       "std    4.858721e+07  2.146698e+08    18.017041      0.764763      4.468841\n",
       "min    5.000000e+06  2.033165e+06    63.000000      3.300000   2000.000000\n",
       "25%    2.000000e+07  3.456058e+07    97.000000      5.600000   2004.000000\n",
       "50%    3.800000e+07  8.361541e+07   107.000000      6.100000   2008.000000\n",
       "75%    7.200000e+07  1.782626e+08   120.000000      6.600000   2012.000000\n",
       "max    3.800000e+08  2.781506e+09   214.000000      8.100000   2015.000000"
      ]
     },
     "execution_count": 3,
     "metadata": {},
     "output_type": "execute_result"
    }
   ],
   "source": [
    "data.describe()"
   ]
  },
  {
   "cell_type": "markdown",
   "metadata": {
    "colab_type": "text",
    "id": "DTIt7ezGVp-G"
   },
   "source": [
    "# Предобработка"
   ]
  },
  {
   "cell_type": "code",
   "execution_count": 0,
   "metadata": {
    "colab": {},
    "colab_type": "code",
    "id": "jNb40DwKVp-H"
   },
   "outputs": [],
   "source": [
    "answers = {} # создадим словарь для ответов\n",
    "\n",
    "# тут другие ваши предобработки колонок например:\n",
    "\n",
    "#the time given in the dataset is in string format.\n",
    "#So we need to change this in datetime format\n",
    "# ..."
   ]
  },
  {
   "cell_type": "markdown",
   "metadata": {
    "colab_type": "text",
    "id": "YxZaH-nPVp-L"
   },
   "source": [
    "# 1. У какого фильма из списка самый большой бюджет?"
   ]
  },
  {
   "cell_type": "markdown",
   "metadata": {
    "colab_type": "text",
    "id": "Nd-G5gX6Vp-M"
   },
   "source": [
    "Использовать варианты ответов в коде решения запрещено.    \n",
    "Вы думаете и в жизни у вас будут варианты ответов?)"
   ]
  },
  {
   "cell_type": "code",
   "execution_count": 0,
   "metadata": {
    "colab": {},
    "colab_type": "code",
    "id": "uVnXAY5RVp-O"
   },
   "outputs": [],
   "source": [
    "# в словарь вставляем номер вопроса и ваш ответ на него\n",
    "# Пример: \n",
    "answers['1'] = '2. Spider-Man 3 (tt0413300)'\n",
    "# запишите свой вариант ответа\n",
    "answers['1'] = '...'\n",
    "# если ответили верно, можете добавить комментарий со значком \"+\""
   ]
  },
  {
   "cell_type": "code",
   "execution_count": 8,
   "metadata": {
    "colab": {},
    "colab_type": "code",
    "id": "dZwb3m28Vp-S"
   },
   "outputs": [
    {
     "data": {
      "text/plain": [
       "723    Pirates of the Caribbean: On Stranger Tides\n",
       "Name: original_title, dtype: object"
      ]
     },
     "execution_count": 8,
     "metadata": {},
     "output_type": "execute_result"
    }
   ],
   "source": [
    "# тут пишем ваш код для решения данного вопроса:\n",
    "#определяем, что за фильм скрывается под условием бюджет = максимальный бюджет\n",
    "data.loc[data.budget==data.budget.max()].original_title"
   ]
  },
  {
   "cell_type": "markdown",
   "metadata": {
    "colab_type": "text",
    "id": "K7L3nbRXVp-X"
   },
   "source": [
    "ВАРИАНТ 2"
   ]
  },
  {
   "cell_type": "code",
   "execution_count": 0,
   "metadata": {
    "colab": {},
    "colab_type": "code",
    "id": "OGaoQI7rVp-X"
   },
   "outputs": [],
   "source": [
    "# можно добавлять разные варианты решения"
   ]
  },
  {
   "cell_type": "markdown",
   "metadata": {
    "colab_type": "text",
    "id": "FNRbbI3vVp-c"
   },
   "source": [
    "# 2. Какой из фильмов самый длительный (в минутах)?"
   ]
  },
  {
   "cell_type": "code",
   "execution_count": 0,
   "metadata": {
    "colab": {},
    "colab_type": "code",
    "id": "vHAoEXNTVp-d"
   },
   "outputs": [],
   "source": [
    "# думаю логику работы с этим словарем вы уже поняли, \n",
    "# по этому не буду больше его дублировать\n",
    "answers['2'] = '...'"
   ]
  },
  {
   "cell_type": "code",
   "execution_count": 10,
   "metadata": {
    "colab": {},
    "colab_type": "code",
    "id": "ot-VX2XrVp-g"
   },
   "outputs": [
    {
     "data": {
      "text/plain": [
       "1157    Gods and Generals\n",
       "Name: original_title, dtype: object"
      ]
     },
     "execution_count": 10,
     "metadata": {},
     "output_type": "execute_result"
    }
   ],
   "source": [
    "#определяем, что за фильм скрывается под условием длительность равна максимальной\n",
    "data.loc[data.runtime==data.runtime.max()].original_title"
   ]
  },
  {
   "cell_type": "markdown",
   "metadata": {
    "colab_type": "text",
    "id": "bapLlpW8Vp-k"
   },
   "source": [
    "# 3. Какой из фильмов самый короткий (в минутах)?\n",
    "\n",
    "\n",
    "\n"
   ]
  },
  {
   "cell_type": "code",
   "execution_count": 11,
   "metadata": {
    "colab": {},
    "colab_type": "code",
    "id": "YBxaSHuAVp-l"
   },
   "outputs": [
    {
     "data": {
      "text/plain": [
       "768    Winnie the Pooh\n",
       "Name: original_title, dtype: object"
      ]
     },
     "execution_count": 11,
     "metadata": {},
     "output_type": "execute_result"
    }
   ],
   "source": [
    "data.loc[data.runtime==data.runtime.min()].original_title"
   ]
  },
  {
   "cell_type": "markdown",
   "metadata": {
    "colab_type": "text",
    "id": "TfQbxbfNVp-p"
   },
   "source": [
    "# 4. Какова средняя длительность фильмов?\n"
   ]
  },
  {
   "cell_type": "code",
   "execution_count": 13,
   "metadata": {
    "colab": {},
    "colab_type": "code",
    "id": "5K6dKZYVVp-q"
   },
   "outputs": [
    {
     "data": {
      "text/plain": [
       "110"
      ]
     },
     "execution_count": 13,
     "metadata": {},
     "output_type": "execute_result"
    }
   ],
   "source": [
    "round(data.runtime.mean())"
   ]
  },
  {
   "cell_type": "markdown",
   "metadata": {
    "colab_type": "text",
    "id": "r5TvbnT_Vp-u"
   },
   "source": [
    "# 5. Каково медианное значение длительности фильмов? "
   ]
  },
  {
   "cell_type": "code",
   "execution_count": 14,
   "metadata": {
    "colab": {},
    "colab_type": "code",
    "id": "iBROplKnVp-v"
   },
   "outputs": [
    {
     "data": {
      "text/plain": [
       "107.0"
      ]
     },
     "execution_count": 14,
     "metadata": {},
     "output_type": "execute_result"
    }
   ],
   "source": [
    "data.runtime.median()"
   ]
  },
  {
   "cell_type": "markdown",
   "metadata": {
    "colab_type": "text",
    "id": "39P-deDSVp-y"
   },
   "source": [
    "# 6. Какой самый прибыльный фильм?\n",
    "#### Внимание! Здесь и далее под «прибылью» или «убытками» понимается разность между сборами и бюджетом фильма. (прибыль = сборы - бюджет) в нашем датасете это будет (profit = revenue - budget) "
   ]
  },
  {
   "cell_type": "code",
   "execution_count": 222,
   "metadata": {
    "colab": {},
    "colab_type": "code",
    "id": "UYZh4T9WVp-y"
   },
   "outputs": [
    {
     "data": {
      "text/plain": [
       "239    Avatar\n",
       "Name: original_title, dtype: object"
      ]
     },
     "execution_count": 222,
     "metadata": {},
     "output_type": "execute_result"
    }
   ],
   "source": [
    "# лучше код получения столбца profit вынести в Предобработку что в начале\n",
    "\n",
    "#создаем новую колонку profit (разница между выручкой и бюджетом)\n",
    "data['profit'] = data.revenue - data.budget\n",
    "\n",
    "#определяем фильм с условием максимальной величины profit\n",
    "data.loc[data.profit==data.profit.max()].original_title"
   ]
  },
  {
   "cell_type": "markdown",
   "metadata": {
    "colab_type": "text",
    "id": "M99JmIX4Vp-2"
   },
   "source": [
    "# 7. Какой фильм самый убыточный? "
   ]
  },
  {
   "cell_type": "code",
   "execution_count": 18,
   "metadata": {
    "colab": {},
    "colab_type": "code",
    "id": "w-D2m4XPVp-3"
   },
   "outputs": [
    {
     "data": {
      "text/plain": [
       "1245    The Lone Ranger\n",
       "Name: original_title, dtype: object"
      ]
     },
     "execution_count": 18,
     "metadata": {},
     "output_type": "execute_result"
    }
   ],
   "source": [
    "data.loc[data.profit==data.profit.min()].original_title"
   ]
  },
  {
   "cell_type": "markdown",
   "metadata": {
    "colab_type": "text",
    "id": "wEOM5ERVVp-6"
   },
   "source": [
    "# 8. У скольких фильмов из датасета объем сборов оказался выше бюджета?"
   ]
  },
  {
   "cell_type": "code",
   "execution_count": 20,
   "metadata": {
    "colab": {},
    "colab_type": "code",
    "id": "y00_7HD6Vp-7"
   },
   "outputs": [
    {
     "data": {
      "text/plain": [
       "1478"
      ]
     },
     "execution_count": 20,
     "metadata": {},
     "output_type": "execute_result"
    }
   ],
   "source": [
    "len(data[data.revenue>data.budget])"
   ]
  },
  {
   "cell_type": "markdown",
   "metadata": {
    "colab_type": "text",
    "id": "xhpspA9KVp_A"
   },
   "source": [
    "# 9. Какой фильм оказался самым кассовым в 2008 году?"
   ]
  },
  {
   "cell_type": "code",
   "execution_count": 59,
   "metadata": {
    "colab": {},
    "colab_type": "code",
    "id": "MoUyQr9RVp_B"
   },
   "outputs": [
    {
     "data": {
      "text/plain": [
       "'The Dark Knight'"
      ]
     },
     "execution_count": 59,
     "metadata": {},
     "output_type": "execute_result"
    }
   ],
   "source": [
    "# blockbuster2008_df = data[data.release_year==2008].sort_values(by='revenue', ascending=False)\n",
    "# blockbuster2008_df.iloc[0].original_title\n",
    "\n",
    "#определяем самый кассовый фильм с условием выхода в 2008 году\n",
    "data[data.release_year==2008].sort_values(by='revenue', ascending=False).iloc[0].original_title"
   ]
  },
  {
   "cell_type": "markdown",
   "metadata": {
    "colab_type": "text",
    "id": "Zi4hDKidVp_F"
   },
   "source": [
    "# 10. Самый убыточный фильм за период с 2012 по 2014 г. (включительно)?\n"
   ]
  },
  {
   "cell_type": "code",
   "execution_count": 72,
   "metadata": {
    "colab": {},
    "colab_type": "code",
    "id": "XqyRmufJVp_F"
   },
   "outputs": [
    {
     "data": {
      "text/plain": [
       "1245    The Lone Ranger\n",
       "Name: original_title, dtype: object"
      ]
     },
     "execution_count": 72,
     "metadata": {},
     "output_type": "execute_result"
    }
   ],
   "source": [
    "data.original_title[data.profit==data[(data.release_year>=2012) & (data.release_year<=2014)].profit.min()]"
   ]
  },
  {
   "cell_type": "markdown",
   "metadata": {
    "colab_type": "text",
    "id": "EA7Sa9dkVp_I"
   },
   "source": [
    "# 11. Какого жанра фильмов больше всего?"
   ]
  },
  {
   "cell_type": "code",
   "execution_count": 0,
   "metadata": {
    "colab": {},
    "colab_type": "code",
    "id": "zsJAwJ8QVp_J"
   },
   "outputs": [],
   "source": [
    "# эту задачу тоже можно решать разными подходами, попробуй реализовать разные варианты\n",
    "# если будешь добавлять функцию - выноси ее в предобработку что в начале"
   ]
  },
  {
   "cell_type": "markdown",
   "metadata": {
    "colab_type": "text",
    "id": "Ax6g2C8SVp_M"
   },
   "source": [
    "ВАРИАНТ 2"
   ]
  },
  {
   "cell_type": "code",
   "execution_count": 310,
   "metadata": {
    "colab": {},
    "colab_type": "code",
    "id": "otO3SbrSVp_N"
   },
   "outputs": [
    {
     "data": {
      "text/plain": [
       "Drama              782\n",
       "Comedy             683\n",
       "Thriller           596\n",
       "Action             582\n",
       "Adventure          415\n",
       "Crime              315\n",
       "Romance            308\n",
       "Family             260\n",
       "Science Fiction    248\n",
       "Fantasy            222\n",
       "Horror             176\n",
       "Mystery            168\n",
       "Animation          139\n",
       "Music               64\n",
       "History             62\n",
       "War                 58\n",
       "Western             19\n",
       "Documentary          8\n",
       "Foreign              2\n",
       "Name: genres, dtype: int64"
      ]
     },
     "execution_count": 310,
     "metadata": {},
     "output_type": "execute_result"
    }
   ],
   "source": [
    "(data.genres.str.split('|').explode()).value_counts()"
   ]
  },
  {
   "cell_type": "markdown",
   "metadata": {
    "colab_type": "text",
    "id": "T9_bPWpkVp_Q"
   },
   "source": [
    "# 12. Фильмы какого жанра чаще всего становятся прибыльными? "
   ]
  },
  {
   "cell_type": "code",
   "execution_count": 381,
   "metadata": {
    "colab": {},
    "colab_type": "code",
    "id": "Tmt8MaK1Vp_R",
    "scrolled": true
   },
   "outputs": [
    {
     "name": "stderr",
     "output_type": "stream",
     "text": [
      "C:\\Users\\tmrakhmankulov\\Anaconda3\\lib\\site-packages\\pandas\\core\\generic.py:5168: SettingWithCopyWarning: \n",
      "A value is trying to be set on a copy of a slice from a DataFrame.\n",
      "Try using .loc[row_indexer,col_indexer] = value instead\n",
      "\n",
      "See the caveats in the documentation: https://pandas.pydata.org/pandas-docs/stable/user_guide/indexing.html#returning-a-view-versus-a-copy\n",
      "  self[name] = value\n"
     ]
    },
    {
     "data": {
      "text/html": [
       "<div>\n",
       "<style scoped>\n",
       "    .dataframe tbody tr th:only-of-type {\n",
       "        vertical-align: middle;\n",
       "    }\n",
       "\n",
       "    .dataframe tbody tr th {\n",
       "        vertical-align: top;\n",
       "    }\n",
       "\n",
       "    .dataframe thead th {\n",
       "        text-align: right;\n",
       "    }\n",
       "</style>\n",
       "<table border=\"1\" class=\"dataframe\">\n",
       "  <thead>\n",
       "    <tr style=\"text-align: right;\">\n",
       "      <th></th>\n",
       "      <th>profit</th>\n",
       "      <th>qty</th>\n",
       "      <th>profit_per_genre</th>\n",
       "    </tr>\n",
       "    <tr>\n",
       "      <th>genres</th>\n",
       "      <th></th>\n",
       "      <th></th>\n",
       "      <th></th>\n",
       "    </tr>\n",
       "  </thead>\n",
       "  <tbody>\n",
       "    <tr>\n",
       "      <th>Fantasy</th>\n",
       "      <td>49716648913</td>\n",
       "      <td>222</td>\n",
       "      <td>223948868</td>\n",
       "    </tr>\n",
       "    <tr>\n",
       "      <th>Animation</th>\n",
       "      <td>30680622718</td>\n",
       "      <td>139</td>\n",
       "      <td>220723904</td>\n",
       "    </tr>\n",
       "    <tr>\n",
       "      <th>Adventure</th>\n",
       "      <td>86070466981</td>\n",
       "      <td>415</td>\n",
       "      <td>207398715</td>\n",
       "    </tr>\n",
       "    <tr>\n",
       "      <th>Family</th>\n",
       "      <td>46714255385</td>\n",
       "      <td>260</td>\n",
       "      <td>179670213</td>\n",
       "    </tr>\n",
       "    <tr>\n",
       "      <th>Science Fiction</th>\n",
       "      <td>40771890654</td>\n",
       "      <td>248</td>\n",
       "      <td>164402784</td>\n",
       "    </tr>\n",
       "    <tr>\n",
       "      <th>Action</th>\n",
       "      <td>80187900065</td>\n",
       "      <td>582</td>\n",
       "      <td>137779897</td>\n",
       "    </tr>\n",
       "    <tr>\n",
       "      <th>Comedy</th>\n",
       "      <td>59774752721</td>\n",
       "      <td>683</td>\n",
       "      <td>87517939</td>\n",
       "    </tr>\n",
       "    <tr>\n",
       "      <th>Thriller</th>\n",
       "      <td>46740546578</td>\n",
       "      <td>596</td>\n",
       "      <td>78423735</td>\n",
       "    </tr>\n",
       "    <tr>\n",
       "      <th>Romance</th>\n",
       "      <td>23992150965</td>\n",
       "      <td>308</td>\n",
       "      <td>77896594</td>\n",
       "    </tr>\n",
       "    <tr>\n",
       "      <th>War</th>\n",
       "      <td>4405027096</td>\n",
       "      <td>58</td>\n",
       "      <td>75948743</td>\n",
       "    </tr>\n",
       "    <tr>\n",
       "      <th>Music</th>\n",
       "      <td>4720498315</td>\n",
       "      <td>64</td>\n",
       "      <td>73757786</td>\n",
       "    </tr>\n",
       "    <tr>\n",
       "      <th>Mystery</th>\n",
       "      <td>11752971178</td>\n",
       "      <td>168</td>\n",
       "      <td>69958161</td>\n",
       "    </tr>\n",
       "    <tr>\n",
       "      <th>Crime</th>\n",
       "      <td>20261017900</td>\n",
       "      <td>315</td>\n",
       "      <td>64320691</td>\n",
       "    </tr>\n",
       "    <tr>\n",
       "      <th>Drama</th>\n",
       "      <td>49257224159</td>\n",
       "      <td>782</td>\n",
       "      <td>62988777</td>\n",
       "    </tr>\n",
       "    <tr>\n",
       "      <th>Horror</th>\n",
       "      <td>10584197147</td>\n",
       "      <td>176</td>\n",
       "      <td>60137483</td>\n",
       "    </tr>\n",
       "    <tr>\n",
       "      <th>Western</th>\n",
       "      <td>1022632954</td>\n",
       "      <td>19</td>\n",
       "      <td>53822787</td>\n",
       "    </tr>\n",
       "    <tr>\n",
       "      <th>History</th>\n",
       "      <td>3046143524</td>\n",
       "      <td>62</td>\n",
       "      <td>49131347</td>\n",
       "    </tr>\n",
       "    <tr>\n",
       "      <th>Documentary</th>\n",
       "      <td>392078032</td>\n",
       "      <td>8</td>\n",
       "      <td>49009754</td>\n",
       "    </tr>\n",
       "    <tr>\n",
       "      <th>Foreign</th>\n",
       "      <td>-13444012</td>\n",
       "      <td>2</td>\n",
       "      <td>-6722006</td>\n",
       "    </tr>\n",
       "  </tbody>\n",
       "</table>\n",
       "</div>"
      ],
      "text/plain": [
       "                      profit  qty  profit_per_genre\n",
       "genres                                             \n",
       "Fantasy          49716648913  222         223948868\n",
       "Animation        30680622718  139         220723904\n",
       "Adventure        86070466981  415         207398715\n",
       "Family           46714255385  260         179670213\n",
       "Science Fiction  40771890654  248         164402784\n",
       "Action           80187900065  582         137779897\n",
       "Comedy           59774752721  683          87517939\n",
       "Thriller         46740546578  596          78423735\n",
       "Romance          23992150965  308          77896594\n",
       "War               4405027096   58          75948743\n",
       "Music             4720498315   64          73757786\n",
       "Mystery          11752971178  168          69958161\n",
       "Crime            20261017900  315          64320691\n",
       "Drama            49257224159  782          62988777\n",
       "Horror           10584197147  176          60137483\n",
       "Western           1022632954   19          53822787\n",
       "History           3046143524   62          49131347\n",
       "Documentary        392078032    8          49009754\n",
       "Foreign            -13444012    2          -6722006"
      ]
     },
     "execution_count": 381,
     "metadata": {},
     "output_type": "execute_result"
    }
   ],
   "source": [
    "#Сколько в среднем приносит каждый жанр\n",
    "\n",
    "#пробный вариант, свернул не туда, уточнил в слаке\n",
    "df = data[['genres', 'profit']]\n",
    "df.genres = df.genres.str.split('|')\n",
    "df = df.explode('genres')\n",
    "df['qty'] = 1\n",
    "df = df.groupby(['genres']).sum()\n",
    "df['profit_per_genre'] = df.profit / df.qty\n",
    "df.profit_per_genre = df.profit_per_genre.apply(lambda x: int(x))\n",
    "df = df.sort_values(by='profit_per_genre', ascending=False)\n",
    "df"
   ]
  },
  {
   "cell_type": "code",
   "execution_count": 373,
   "metadata": {},
   "outputs": [
    {
     "data": {
      "text/plain": [
       "Drama              560\n",
       "Comedy             551\n",
       "Thriller           446\n",
       "Action             444\n",
       "Adventure          337\n",
       "Romance            242\n",
       "Crime              231\n",
       "Family             226\n",
       "Science Fiction    195\n",
       "Fantasy            188\n",
       "Horror             150\n",
       "Animation          120\n",
       "Mystery            119\n",
       "Music               47\n",
       "History             46\n",
       "War                 41\n",
       "Western             12\n",
       "Documentary          7\n",
       "Name: genres, dtype: int64"
      ]
     },
     "execution_count": 373,
     "metadata": {},
     "output_type": "execute_result"
    }
   ],
   "source": [
    "#Только прибыльные жанры -> profit > 0 -> чаще всего встречающиеся жанры среди прибыльных\n",
    "\n",
    "import pandas as pd\n",
    "\n",
    "#загружаем файл в переменную и создаем колонку с условием\n",
    "data = pd.read_csv('movie_bd_v5.csv')\n",
    "data['profit'] = data['revenue'] - data['budget']\n",
    "\n",
    "#создаем датафрейм с уловием и выводим только жанры; разбиваем строку в список и \"взрываем\" на строки; выводим к-во встречающихся жанров\n",
    "df = data[data.profit > 0][['genres']]\n",
    "df.genres = df.genres.str.split('|')\n",
    "df = df.explode('genres')\n",
    "df.genres.value_counts()"
   ]
  },
  {
   "cell_type": "markdown",
   "metadata": {
    "colab_type": "text",
    "id": "0F23bgsDVp_U"
   },
   "source": [
    "# 13. У какого режиссера самые большие суммарные кассовые сборы?"
   ]
  },
  {
   "cell_type": "code",
   "execution_count": 385,
   "metadata": {
    "colab": {},
    "colab_type": "code",
    "id": "K6Z3J8ygVp_X"
   },
   "outputs": [
    {
     "data": {
      "text/plain": [
       "director\n",
       "Peter Jackson        6490593685\n",
       "Christopher Nolan    4167548502\n",
       "David Yates          4154295625\n",
       "Michael Bay          3886938960\n",
       "J.J. Abrams          3579169916\n",
       "                        ...    \n",
       "David MichÃ´d           2295423\n",
       "Steven Shainberg        2281089\n",
       "Paul Schrader           2062066\n",
       "Keanu Reeves            2054941\n",
       "Simon Hunter            2033165\n",
       "Name: revenue, Length: 997, dtype: int64"
      ]
     },
     "execution_count": 385,
     "metadata": {},
     "output_type": "execute_result"
    }
   ],
   "source": [
    "#создаем датафрейм с режиссерами и выручкой; создаем список из строки режиссеров; взрываем список на строки; группируем по сумме выручки и сортируем по убыванию\n",
    "df = data[['director', 'revenue']]\n",
    "df.director = df.director.str.split('|')\n",
    "df = df.explode('director')\n",
    "df = df.groupby(['director'])['revenue'].sum().sort_values(ascending=False)\n",
    "df"
   ]
  },
  {
   "cell_type": "markdown",
   "metadata": {
    "colab_type": "text",
    "id": "PsYC9FgRVp_a"
   },
   "source": [
    "# 14. Какой режисер снял больше всего фильмов в стиле Action?"
   ]
  },
  {
   "cell_type": "code",
   "execution_count": 211,
   "metadata": {
    "colab": {},
    "colab_type": "code",
    "id": "wd2M-wHeVp_b"
   },
   "outputs": [
    {
     "data": {
      "text/plain": [
       "Robert Rodriguez      9\n",
       "Michael Bay           7\n",
       "Paul W.S. Anderson    7\n",
       "Ridley Scott          6\n",
       "Antoine Fuqua         6\n",
       "                     ..\n",
       "Kevin Macdonald       1\n",
       "Bruce Hunt            1\n",
       "Patrick Hughes        1\n",
       "Rod Lurie             1\n",
       "Asger Leth            1\n",
       "Name: director, Length: 364, dtype: int64"
      ]
     },
     "execution_count": 211,
     "metadata": {},
     "output_type": "execute_result"
    }
   ],
   "source": [
    "#выводим дф с режиссерами, которые снимали экшн, создаем список из строки режиссеров, взрываем список и считаем к-во повторений\n",
    "data[data.genres.str.contains('Action')].director.str.split('|').explode().value_counts()"
   ]
  },
  {
   "cell_type": "markdown",
   "metadata": {
    "colab_type": "text",
    "id": "PQ0KciD7Vp_f"
   },
   "source": [
    "# 15. Фильмы с каким актером принесли самые высокие кассовые сборы в 2012 году? "
   ]
  },
  {
   "cell_type": "code",
   "execution_count": 414,
   "metadata": {
    "colab": {},
    "colab_type": "code",
    "id": "aga62oeKVp_g"
   },
   "outputs": [
    {
     "data": {
      "text/plain": [
       "cast       Chris Hemsworth\n",
       "revenue         2027450773\n",
       "Name: 77, dtype: object"
      ]
     },
     "execution_count": 414,
     "metadata": {},
     "output_type": "execute_result"
    }
   ],
   "source": [
    "#создаем датафрейм с условиями и взрываем на строки список актеров\n",
    "df = data[data.release_year==2012][['cast', 'revenue']]\n",
    "df.cast = df.cast.str.split('|')\n",
    "df = df.explode('cast')\n",
    "\n",
    "#группируем актеров по сумме выручки и сортируем по выручке по убыванию; выводим первую строку\n",
    "df = df.groupby(['cast'])['revenue'].sum().reset_index()\n",
    "df = df.sort_values(by='revenue', ascending=False)\n",
    "df.iloc[0]"
   ]
  },
  {
   "cell_type": "markdown",
   "metadata": {
    "colab_type": "text",
    "id": "mWHyyL7QVp_j"
   },
   "source": [
    "# 16. Какой актер снялся в большем количестве высокобюджетных фильмов?"
   ]
  },
  {
   "cell_type": "code",
   "execution_count": 426,
   "metadata": {
    "colab": {},
    "colab_type": "code",
    "id": "qQtmHKTFVp_k"
   },
   "outputs": [
    {
     "name": "stderr",
     "output_type": "stream",
     "text": [
      "C:\\Users\\tmrakhmankulov\\Anaconda3\\lib\\site-packages\\pandas\\core\\generic.py:5168: SettingWithCopyWarning: \n",
      "A value is trying to be set on a copy of a slice from a DataFrame.\n",
      "Try using .loc[row_indexer,col_indexer] = value instead\n",
      "\n",
      "See the caveats in the documentation: https://pandas.pydata.org/pandas-docs/stable/user_guide/indexing.html#returning-a-view-versus-a-copy\n",
      "  self[name] = value\n"
     ]
    },
    {
     "data": {
      "text/plain": [
       "Matt Damon          18\n",
       "Adam Sandler        17\n",
       "Angelina Jolie      16\n",
       "Tom Cruise          15\n",
       "Eddie Murphy        15\n",
       "                    ..\n",
       "Nancy Cartwright     1\n",
       "Katy Perry           1\n",
       "John Witherspoon     1\n",
       "Jon Bernthal         1\n",
       "Archie Panjabi       1\n",
       "Name: cast, Length: 1505, dtype: int64"
      ]
     },
     "execution_count": 426,
     "metadata": {},
     "output_type": "execute_result"
    }
   ],
   "source": [
    "#создаем новый дф из колонок, сплитуем актеров, взрываем актеров с остальными колонками в строки\n",
    "df = data[['cast','original_title','budget']]\n",
    "df.cast = df.cast.str.split('|')\n",
    "df = df.explode('cast')\n",
    "\n",
    "#создаем новый дф с условием бюджет выше среднего и выводим актеров; считаем к-во повторений актеров в дф\n",
    "df = df[df.budget > df.budget.mean()]['cast']\n",
    "df.value_counts()"
   ]
  },
  {
   "cell_type": "markdown",
   "metadata": {
    "colab_type": "text",
    "id": "NIh6AaW5Vp_n"
   },
   "source": [
    "# 17. В фильмах какого жанра больше всего снимался Nicolas Cage? "
   ]
  },
  {
   "cell_type": "code",
   "execution_count": 471,
   "metadata": {
    "colab": {},
    "colab_type": "code",
    "id": "H74SJDIBVp_n"
   },
   "outputs": [
    {
     "data": {
      "text/plain": [
       "Action             17\n",
       "Thriller           15\n",
       "Drama              12\n",
       "Crime              10\n",
       "Fantasy             8\n",
       "Adventure           7\n",
       "Comedy              6\n",
       "Science Fiction     4\n",
       "Mystery             3\n",
       "Animation           3\n",
       "Family              3\n",
       "History             2\n",
       "War                 1\n",
       "Horror              1\n",
       "Romance             1\n",
       "Name: genres, dtype: int64"
      ]
     },
     "execution_count": 471,
     "metadata": {},
     "output_type": "execute_result"
    }
   ],
   "source": [
    "#создаем дф с жанрыми и актерами; сплитуем жанры и актеров; взрываем актеров и жанры по строкам\n",
    "df = data[['genres','cast']]\n",
    "df.genres = df.genres.str.split('|')\n",
    "df.cast = df.cast.str.split('|')\n",
    "df = df.explode('genres')\n",
    "df = df.explode('cast')\n",
    "\n",
    "#создаем новый дф с актерами и жанрами; определяем к-во жанров фильмов, в которых играл актер в условии\n",
    "df = df[['cast','genres']]\n",
    "df.loc[df.cast=='Nicolas Cage']['genres'].value_counts()"
   ]
  },
  {
   "cell_type": "markdown",
   "metadata": {
    "colab_type": "text",
    "id": "RqOmPRfWVp_q"
   },
   "source": [
    "# 18. Самый убыточный фильм от Paramount Pictures"
   ]
  },
  {
   "cell_type": "code",
   "execution_count": 483,
   "metadata": {
    "colab": {},
    "colab_type": "code",
    "id": "9E_B0Y96Vp_r"
   },
   "outputs": [
    {
     "data": {
      "text/html": [
       "<div>\n",
       "<style scoped>\n",
       "    .dataframe tbody tr th:only-of-type {\n",
       "        vertical-align: middle;\n",
       "    }\n",
       "\n",
       "    .dataframe tbody tr th {\n",
       "        vertical-align: top;\n",
       "    }\n",
       "\n",
       "    .dataframe thead th {\n",
       "        text-align: right;\n",
       "    }\n",
       "</style>\n",
       "<table border=\"1\" class=\"dataframe\">\n",
       "  <thead>\n",
       "    <tr style=\"text-align: right;\">\n",
       "      <th></th>\n",
       "      <th>original_title</th>\n",
       "      <th>profit</th>\n",
       "    </tr>\n",
       "  </thead>\n",
       "  <tbody>\n",
       "    <tr>\n",
       "      <th>925</th>\n",
       "      <td>K-19: The Widowmaker</td>\n",
       "      <td>-64831034</td>\n",
       "    </tr>\n",
       "    <tr>\n",
       "      <th>1123</th>\n",
       "      <td>Timeline</td>\n",
       "      <td>-60519261</td>\n",
       "    </tr>\n",
       "    <tr>\n",
       "      <th>1722</th>\n",
       "      <td>Next</td>\n",
       "      <td>-51788987</td>\n",
       "    </tr>\n",
       "    <tr>\n",
       "      <th>1623</th>\n",
       "      <td>Alfie</td>\n",
       "      <td>-46604061</td>\n",
       "    </tr>\n",
       "    <tr>\n",
       "      <th>1631</th>\n",
       "      <td>Twisted</td>\n",
       "      <td>-24805000</td>\n",
       "    </tr>\n",
       "    <tr>\n",
       "      <th>...</th>\n",
       "      <td>...</td>\n",
       "      <td>...</td>\n",
       "    </tr>\n",
       "    <tr>\n",
       "      <th>730</th>\n",
       "      <td>Mission: Impossible - Ghost Protocol</td>\n",
       "      <td>549713380</td>\n",
       "    </tr>\n",
       "    <tr>\n",
       "      <th>1738</th>\n",
       "      <td>Transformers</td>\n",
       "      <td>559709780</td>\n",
       "    </tr>\n",
       "    <tr>\n",
       "      <th>603</th>\n",
       "      <td>Indiana Jones and the Kingdom of the Crystal S...</td>\n",
       "      <td>601636033</td>\n",
       "    </tr>\n",
       "    <tr>\n",
       "      <th>317</th>\n",
       "      <td>Transformers: Revenge of the Fallen</td>\n",
       "      <td>686297228</td>\n",
       "    </tr>\n",
       "    <tr>\n",
       "      <th>828</th>\n",
       "      <td>Transformers: Dark of the Moon</td>\n",
       "      <td>928746996</td>\n",
       "    </tr>\n",
       "  </tbody>\n",
       "</table>\n",
       "<p>122 rows × 2 columns</p>\n",
       "</div>"
      ],
      "text/plain": [
       "                                         original_title     profit\n",
       "925                                K-19: The Widowmaker  -64831034\n",
       "1123                                           Timeline  -60519261\n",
       "1722                                               Next  -51788987\n",
       "1623                                              Alfie  -46604061\n",
       "1631                                            Twisted  -24805000\n",
       "...                                                 ...        ...\n",
       "730                Mission: Impossible - Ghost Protocol  549713380\n",
       "1738                                       Transformers  559709780\n",
       "603   Indiana Jones and the Kingdom of the Crystal S...  601636033\n",
       "317                 Transformers: Revenge of the Fallen  686297228\n",
       "828                      Transformers: Dark of the Moon  928746996\n",
       "\n",
       "[122 rows x 2 columns]"
      ]
     },
     "execution_count": 483,
     "metadata": {},
     "output_type": "execute_result"
    }
   ],
   "source": [
    "#создаем новый дф с уловием и выводим название и прибыль; сортируем по прибыли по убыванию\n",
    "df = data[data.production_companies.str.contains('Paramount Pictures')][['original_title','profit']].sort_values(by='profit',ascending=True)\n",
    "df"
   ]
  },
  {
   "cell_type": "markdown",
   "metadata": {
    "colab_type": "text",
    "id": "vS8Ur6ddVp_u"
   },
   "source": [
    "# 19. Какой год стал самым успешным по суммарным кассовым сборам?"
   ]
  },
  {
   "cell_type": "code",
   "execution_count": 492,
   "metadata": {
    "colab": {},
    "colab_type": "code",
    "id": "Dnbt4GdIVp_v"
   },
   "outputs": [
    {
     "data": {
      "text/plain": [
       "release_year\n",
       "2015    25449202382\n",
       "Name: revenue, dtype: int64"
      ]
     },
     "execution_count": 492,
     "metadata": {},
     "output_type": "execute_result"
    }
   ],
   "source": [
    "#создаем дф с группировкой по году выпуска и суммой выручки; сортируем по убыванию выручки; выводим строку с максимальной выручкой\n",
    "df = data.groupby(['release_year'])['revenue'].sum().sort_values(ascending=False)\n",
    "df[df == df.max()]"
   ]
  },
  {
   "cell_type": "markdown",
   "metadata": {
    "colab_type": "text",
    "id": "JAzJh4QAVp_z"
   },
   "source": [
    "# 20. Какой самый прибыльный год для студии Warner Bros?"
   ]
  },
  {
   "cell_type": "code",
   "execution_count": 534,
   "metadata": {
    "colab": {},
    "colab_type": "code",
    "id": "wgVu02DEVp_0"
   },
   "outputs": [
    {
     "data": {
      "text/plain": [
       "release_year\n",
       "2014    2292949646\n",
       "2007    2201675217\n",
       "2008    2134595031\n",
       "2010    1974712985\n",
       "2011    1871393682\n",
       "2003    1844008221\n",
       "2009    1822454136\n",
       "2013    1636453400\n",
       "2004    1631933725\n",
       "2005    1551980298\n",
       "2001    1282142579\n",
       "2012    1258020056\n",
       "2002    1022709901\n",
       "2015     870368348\n",
       "2006     625351872\n",
       "2000     452631386\n",
       "Name: profit, dtype: int64"
      ]
     },
     "execution_count": 534,
     "metadata": {},
     "output_type": "execute_result"
    }
   ],
   "source": [
    "#создаем новый дф с кинокомпаниями, годом выпуска и прибылью\n",
    "df = data[['production_companies','release_year','profit']]\n",
    "#сплитуем в список кинокомпании по разделителю\n",
    "df.production_companies = df.production_companies.str.split('|')\n",
    "#вызрваем дф по кинокомпаниями по строкам\n",
    "df = df.explode('production_companies')\n",
    "\n",
    "#определяем функцию \"если строка есть в названии\" - присвоить названием переменной и вернуть переменную\n",
    "def naming(s):\n",
    "    if 'Warner Bros' in s:\n",
    "        s = 'Warner Bros'\n",
    "        return s\n",
    "    else:\n",
    "        return s\n",
    "#применим функцию к колонке кинокимпаний\n",
    "df.production_companies = df.production_companies.apply(naming)\n",
    "#создадим дф с условием и колонками дата выхода и прибыль\n",
    "df = df[df.production_companies.str.contains('Warner Bros')][['release_year','profit']]\n",
    "#сгруппируем по дате выхода и выведем сумму выручки по группам, отфильтруем по прибыли по убыванию\n",
    "df = df.groupby(['release_year'])['profit'].sum().sort_values(ascending=False)\n",
    "\n",
    "df"
   ]
  },
  {
   "cell_type": "markdown",
   "metadata": {
    "colab_type": "text",
    "id": "8Im1S2HRVp_4"
   },
   "source": [
    "# 21. В каком месяце за все годы суммарно вышло больше всего фильмов?"
   ]
  },
  {
   "cell_type": "code",
   "execution_count": 585,
   "metadata": {
    "colab": {},
    "colab_type": "code",
    "id": "lev6TH7gVp_4"
   },
   "outputs": [
    {
     "name": "stderr",
     "output_type": "stream",
     "text": [
      "<ipython-input-585-5be72610d2ca>:2: SettingWithCopyWarning: \n",
      "A value is trying to be set on a copy of a slice from a DataFrame.\n",
      "Try using .loc[row_indexer,col_indexer] = value instead\n",
      "\n",
      "See the caveats in the documentation: https://pandas.pydata.org/pandas-docs/stable/user_guide/indexing.html#returning-a-view-versus-a-copy\n",
      "  df['month'] = df['release_date'].str.split('/', n=3, expand=True)[0]\n"
     ]
    },
    {
     "data": {
      "text/plain": [
       "month\n",
       "9     227\n",
       "12    190\n",
       "10    186\n",
       "8     161\n",
       "3     156\n",
       "4     149\n",
       "6     147\n",
       "11    146\n",
       "7     142\n",
       "5     140\n",
       "2     135\n",
       "1     110\n",
       "Name: counter, dtype: int64"
      ]
     },
     "execution_count": 585,
     "metadata": {},
     "output_type": "execute_result"
    }
   ],
   "source": [
    "#создади дф с датой выхода и id фильма\n",
    "df = data[['release_date','imdb_id']]\n",
    "#создаздим колонку месяц, разобьем в ней строку дата выхода на 3 элемента и присвоим первый (месяц)\n",
    "df['month'] = df['release_date'].str.split('/', n=3, expand=True)[0]\n",
    "#создадим дф с месяцем и id фильма \n",
    "df = df[['month','imdb_id']]\n",
    "#создадим колонку счетчик = 1\n",
    "df['counter'] = 1\n",
    "#сгруппируем дф по месяцу и выведем сумму счетчика повторений месяца в дф, отфильтруем по убыванию к-ва повторений\n",
    "df.groupby(['month'])['counter'].sum().sort_values(ascending=False)"
   ]
  },
  {
   "cell_type": "markdown",
   "metadata": {
    "colab_type": "text",
    "id": "uAJsZ_NeVp_7"
   },
   "source": [
    "# 22. Сколько суммарно вышло фильмов летом? (за июнь, июль, август)"
   ]
  },
  {
   "cell_type": "code",
   "execution_count": 600,
   "metadata": {
    "colab": {},
    "colab_type": "code",
    "id": "Aa-hEREoVp_8"
   },
   "outputs": [
    {
     "name": "stderr",
     "output_type": "stream",
     "text": [
      "<ipython-input-600-69ed4cee070e>:2: SettingWithCopyWarning: \n",
      "A value is trying to be set on a copy of a slice from a DataFrame.\n",
      "Try using .loc[row_indexer,col_indexer] = value instead\n",
      "\n",
      "See the caveats in the documentation: https://pandas.pydata.org/pandas-docs/stable/user_guide/indexing.html#returning-a-view-versus-a-copy\n",
      "  df['month'] = df['release_date'].str.split('/', n=3, expand=True)[0]\n"
     ]
    },
    {
     "data": {
      "text/plain": [
       "450"
      ]
     },
     "execution_count": 600,
     "metadata": {},
     "output_type": "execute_result"
    }
   ],
   "source": [
    "#создадим дф с датой выхода и id фильма\n",
    "df = data[['release_date','imdb_id']]\n",
    "#создадим колонку месяц и присвоим ей значение месяца из даты выхода\n",
    "df['month'] = df['release_date'].str.split('/', n=3, expand=True)[0]\n",
    "#создадим дф с месяцем т id фильма\n",
    "df = df[['month','imdb_id']]\n",
    "#создадим колонку счетчика = 1\n",
    "df['counter'] = 1\n",
    "#сгруппируем дф по месяцу и сумме вхождений счетчика, отфильтруем по убыванию счетчика\n",
    "df = df.groupby(['month'])['counter'].sum().sort_values(ascending=False)\n",
    "#сбросим индекс \n",
    "df = df.reset_index()\n",
    "#выведем дф, где только летние месяцы и просуммируем счетчик\n",
    "df[df['month'].isin(['6','7','8'])].counter.sum()"
   ]
  },
  {
   "cell_type": "markdown",
   "metadata": {
    "colab_type": "text",
    "id": "G94ppOY1VqAA"
   },
   "source": [
    "# 23. Для какого режиссера зима – самое продуктивное время года? "
   ]
  },
  {
   "cell_type": "code",
   "execution_count": 613,
   "metadata": {
    "colab": {},
    "colab_type": "code",
    "id": "RhNTsamuVqAB"
   },
   "outputs": [
    {
     "name": "stderr",
     "output_type": "stream",
     "text": [
      "<ipython-input-613-c6d8ea62cfe2>:2: SettingWithCopyWarning: \n",
      "A value is trying to be set on a copy of a slice from a DataFrame.\n",
      "Try using .loc[row_indexer,col_indexer] = value instead\n",
      "\n",
      "See the caveats in the documentation: https://pandas.pydata.org/pandas-docs/stable/user_guide/indexing.html#returning-a-view-versus-a-copy\n",
      "  df['month'] = df['release_date'].str.split('/', n=3, expand=True)[0]\n"
     ]
    },
    {
     "data": {
      "text/plain": [
       "director\n",
       "Peter Jackson            7\n",
       "Steven Soderbergh        6\n",
       "Clint Eastwood           6\n",
       "Martin Scorsese          4\n",
       "Adam Shankman            4\n",
       "                        ..\n",
       "Matt Bettinelli-Olpin    1\n",
       "Matt Reeves              1\n",
       "Matthew O'Callaghan      1\n",
       "Matthew Vaughn           1\n",
       "Jon Avnet                1\n",
       "Name: counter, Length: 358, dtype: int64"
      ]
     },
     "execution_count": 613,
     "metadata": {},
     "output_type": "execute_result"
    }
   ],
   "source": [
    "#создадим дф с датой выхода и режиссером\n",
    "df = data[['release_date','director']]\n",
    "#создадим колонку месяц, сплитуем колонку и выводим первый элемент(месяц)\n",
    "df['month'] = df['release_date'].str.split('/', n=3, expand=True)[0]\n",
    "#создаем новый дф с месяцем и режиссером\n",
    "df = df[['month','director']]\n",
    "#сплитуем колонку режиссер и взырваем на строки\n",
    "df.director = df.director.str.split('|')\n",
    "df = df.explode('director')\n",
    "#создаем колонку счетчик = 1\n",
    "df['counter'] = 1\n",
    "#выводи дф, где месяцы тольки зимние и группируем его по режиссеру и сумме счетчика, сортируем по убыванию\n",
    "df[df.month.isin(['12','1','2'])].groupby(['director'])['counter'].sum().sort_values(ascending=False)"
   ]
  },
  {
   "cell_type": "markdown",
   "metadata": {
    "colab_type": "text",
    "id": "RBo0JVjVVqAF"
   },
   "source": [
    "# 24. Какая студия дает самые длинные названия своим фильмам по количеству символов?"
   ]
  },
  {
   "cell_type": "code",
   "execution_count": 184,
   "metadata": {
    "colab": {},
    "colab_type": "code",
    "id": "QRGS8L0iVqAG"
   },
   "outputs": [
    {
     "name": "stderr",
     "output_type": "stream",
     "text": [
      "C:\\Users\\tmrakhmankulov\\Anaconda3\\lib\\site-packages\\pandas\\core\\generic.py:5168: SettingWithCopyWarning: \n",
      "A value is trying to be set on a copy of a slice from a DataFrame.\n",
      "Try using .loc[row_indexer,col_indexer] = value instead\n",
      "\n",
      "See the caveats in the documentation: https://pandas.pydata.org/pandas-docs/stable/user_guide/indexing.html#returning-a-view-versus-a-copy\n",
      "  self[name] = value\n"
     ]
    },
    {
     "data": {
      "text/plain": [
       "production_companies\n",
       "Warner Bros.                              2616\n",
       "Universal Pictures                        2546\n",
       "Paramount Pictures                        2078\n",
       "Twentieth Century Fox Film Corporation    1799\n",
       "Columbia Pictures                         1722\n",
       "                                          ... \n",
       "Berlanti Productions                         3\n",
       "Everest Entertainment                        3\n",
       "Global Entertainment Group                   2\n",
       "XM2 Productions                              2\n",
       "Ixtlan Productions                           2\n",
       "Name: name_length, Length: 1771, dtype: int64"
      ]
     },
     "execution_count": 184,
     "metadata": {},
     "output_type": "execute_result"
    }
   ],
   "source": [
    "#импортируем пандас и обозначаем переменную, в которую грузим файл\n",
    "import pandas as pd\n",
    "data = pd.read_csv('movie_bd_v5.csv')\n",
    "\n",
    "#создаем новый дф с 2 колонками, сплитуем одну из колонок и взрываем ее на строки в общем дф\n",
    "df = data[['production_companies','original_title']]\n",
    "df.production_companies = df.production_companies.str.split('|')\n",
    "df = df.explode('production_companies')\n",
    "\n",
    "#создаем функцию, возвращающую длину аргумента\n",
    "def length(s):\n",
    "    s = len(s)\n",
    "    return s\n",
    "\n",
    "#создаем новую колонку \"длина названия\" и применяем к ней функцию через лямбда функцию\n",
    "df['name_length'] = df.original_title.apply(lambda s: length(s))\n",
    "#группируем дф по кинокомпаниям и выводим сумму всех длин названий фильмов, сортируем по убыванию\n",
    "df.groupby(['production_companies'])['name_length'].sum().sort_values(ascending=False)"
   ]
  },
  {
   "cell_type": "markdown",
   "metadata": {
    "colab_type": "text",
    "id": "9G0hbvR7VqAK"
   },
   "source": [
    "# 25. Описание фильмов какой студии в среднем самые длинные по количеству слов?"
   ]
  },
  {
   "cell_type": "code",
   "execution_count": 634,
   "metadata": {
    "colab": {},
    "colab_type": "code",
    "id": "Ge2GsLNxVqAK",
    "scrolled": true
   },
   "outputs": [
    {
     "data": {
      "text/html": [
       "<div>\n",
       "<style scoped>\n",
       "    .dataframe tbody tr th:only-of-type {\n",
       "        vertical-align: middle;\n",
       "    }\n",
       "\n",
       "    .dataframe tbody tr th {\n",
       "        vertical-align: top;\n",
       "    }\n",
       "\n",
       "    .dataframe thead th {\n",
       "        text-align: right;\n",
       "    }\n",
       "</style>\n",
       "<table border=\"1\" class=\"dataframe\">\n",
       "  <thead>\n",
       "    <tr style=\"text-align: right;\">\n",
       "      <th></th>\n",
       "      <th>production_companies</th>\n",
       "      <th>name_length</th>\n",
       "      <th>counter</th>\n",
       "      <th>avg_name_length</th>\n",
       "    </tr>\n",
       "  </thead>\n",
       "  <tbody>\n",
       "    <tr>\n",
       "      <th>1041</th>\n",
       "      <td>Midnight Picture Show</td>\n",
       "      <td>1000</td>\n",
       "      <td>1</td>\n",
       "      <td>1000.0</td>\n",
       "    </tr>\n",
       "    <tr>\n",
       "      <th>1355</th>\n",
       "      <td>Room 9 Entertainment</td>\n",
       "      <td>964</td>\n",
       "      <td>1</td>\n",
       "      <td>964.0</td>\n",
       "    </tr>\n",
       "    <tr>\n",
       "      <th>231</th>\n",
       "      <td>Brookwell-McNamara Entertainment</td>\n",
       "      <td>936</td>\n",
       "      <td>1</td>\n",
       "      <td>936.0</td>\n",
       "    </tr>\n",
       "    <tr>\n",
       "      <th>921</th>\n",
       "      <td>Lions Gate Family Entertainment</td>\n",
       "      <td>909</td>\n",
       "      <td>1</td>\n",
       "      <td>909.0</td>\n",
       "    </tr>\n",
       "    <tr>\n",
       "      <th>360</th>\n",
       "      <td>Crest Animation Productions</td>\n",
       "      <td>909</td>\n",
       "      <td>1</td>\n",
       "      <td>909.0</td>\n",
       "    </tr>\n",
       "    <tr>\n",
       "      <th>...</th>\n",
       "      <td>...</td>\n",
       "      <td>...</td>\n",
       "      <td>...</td>\n",
       "      <td>...</td>\n",
       "    </tr>\n",
       "    <tr>\n",
       "      <th>934</th>\n",
       "      <td>London Boulevard</td>\n",
       "      <td>74</td>\n",
       "      <td>1</td>\n",
       "      <td>74.0</td>\n",
       "    </tr>\n",
       "    <tr>\n",
       "      <th>694</th>\n",
       "      <td>Henceforth</td>\n",
       "      <td>74</td>\n",
       "      <td>1</td>\n",
       "      <td>74.0</td>\n",
       "    </tr>\n",
       "    <tr>\n",
       "      <th>1234</th>\n",
       "      <td>Phantom Four</td>\n",
       "      <td>72</td>\n",
       "      <td>1</td>\n",
       "      <td>72.0</td>\n",
       "    </tr>\n",
       "    <tr>\n",
       "      <th>492</th>\n",
       "      <td>Empire Pictures</td>\n",
       "      <td>62</td>\n",
       "      <td>1</td>\n",
       "      <td>62.0</td>\n",
       "    </tr>\n",
       "    <tr>\n",
       "      <th>1079</th>\n",
       "      <td>Motion Picture Corporation of America</td>\n",
       "      <td>59</td>\n",
       "      <td>1</td>\n",
       "      <td>59.0</td>\n",
       "    </tr>\n",
       "  </tbody>\n",
       "</table>\n",
       "<p>1771 rows × 4 columns</p>\n",
       "</div>"
      ],
      "text/plain": [
       "                       production_companies  name_length  counter  \\\n",
       "1041                  Midnight Picture Show         1000        1   \n",
       "1355                   Room 9 Entertainment          964        1   \n",
       "231        Brookwell-McNamara Entertainment          936        1   \n",
       "921         Lions Gate Family Entertainment          909        1   \n",
       "360             Crest Animation Productions          909        1   \n",
       "...                                     ...          ...      ...   \n",
       "934                        London Boulevard           74        1   \n",
       "694                              Henceforth           74        1   \n",
       "1234                           Phantom Four           72        1   \n",
       "492                         Empire Pictures           62        1   \n",
       "1079  Motion Picture Corporation of America           59        1   \n",
       "\n",
       "      avg_name_length  \n",
       "1041           1000.0  \n",
       "1355            964.0  \n",
       "231             936.0  \n",
       "921             909.0  \n",
       "360             909.0  \n",
       "...               ...  \n",
       "934              74.0  \n",
       "694              74.0  \n",
       "1234             72.0  \n",
       "492              62.0  \n",
       "1079             59.0  \n",
       "\n",
       "[1771 rows x 4 columns]"
      ]
     },
     "execution_count": 634,
     "metadata": {},
     "output_type": "execute_result"
    }
   ],
   "source": [
    "#создаем дф с кинокомпаниями и описанием, сплитуем строку кинокомпаний в список, взрываем список кинокомпаний на строки дф\n",
    "df = data[['production_companies','overview']]\n",
    "df.production_companies = df.production_companies.str.split('|')\n",
    "df = df.explode('production_companies')\n",
    "\n",
    "#создаем функцию с выводом длины аргумента\n",
    "def length(s):\n",
    "    s = len(s)\n",
    "    return s\n",
    "#создаем колонку счетчика = 1\n",
    "df['counter'] = 1\n",
    "#создаем колонку \"длина описания\" и применяем к ней фунцкию\n",
    "df['name_length'] = df.overview.apply(lambda s: length(s))\n",
    "#группируем кинокмпании по сумме длины описания и счетчика, сбрасываем индексацию \n",
    "df = df.groupby(['production_companies'])[['name_length','counter']].sum().reset_index()\n",
    "#создаем колонку в дф с определением средней длины описания\n",
    "df['avg_name_length'] = df.name_length / df.counter\n",
    "#сортируем дф по средней длине описания по убыванию\n",
    "df = df.sort_values(by='avg_name_length', ascending=False)\n",
    "df"
   ]
  },
  {
   "cell_type": "code",
   "execution_count": 643,
   "metadata": {},
   "outputs": [
    {
     "data": {
      "text/plain": [
       "711    The photographer Leon lives with his girlfriend and waitress Maya waiting for a chance to get in the photo business. When Maya contacts their friend Jurgis, he schedules a meeting for Leon with the successful owner of arts gallery Susan Hoff; she analyzes Leon's work and asks him to improve the quality of his photos. During the night, the upset Leon decides to wander on the streets taking pictures with his camera, and he follows three punks down to the subway station; when the gang attacks a young woman, Leon defends her and the guys move on. On the next morning, Leon discovers that the woman is missing. He goes to the police station, but Detective Lynn Hadley does not give much attention to him and discredits his statement. Leon becomes obsessed to find what happened with the stranger and he watches the subway station. When he sees the elegant butcher Mahogany in the train, Leon believes he might be a murderer and stalks him everywhere, in the beginning of his journey to the darkn...\n",
       "Name: overview, dtype: object"
      ]
     },
     "execution_count": 643,
     "metadata": {},
     "output_type": "execute_result"
    }
   ],
   "source": [
    "pd.options.display.max_colwidth = 1000\n",
    "data[data.production_companies.str.contains('Midnight Picture Show')].overview"
   ]
  },
  {
   "cell_type": "markdown",
   "metadata": {
    "colab_type": "text",
    "id": "FJ1AFt90VqAP"
   },
   "source": [
    "# 26. Какие фильмы входят в 1 процент лучших по рейтингу? \n",
    "\n",
    "по vote_average"
   ]
  },
  {
   "cell_type": "code",
   "execution_count": 686,
   "metadata": {
    "colab": {},
    "colab_type": "code",
    "id": "8qmJVq4CVqAQ"
   },
   "outputs": [
    {
     "data": {
      "text/html": [
       "<div>\n",
       "<style scoped>\n",
       "    .dataframe tbody tr th:only-of-type {\n",
       "        vertical-align: middle;\n",
       "    }\n",
       "\n",
       "    .dataframe tbody tr th {\n",
       "        vertical-align: top;\n",
       "    }\n",
       "\n",
       "    .dataframe thead th {\n",
       "        text-align: right;\n",
       "    }\n",
       "</style>\n",
       "<table border=\"1\" class=\"dataframe\">\n",
       "  <thead>\n",
       "    <tr style=\"text-align: right;\">\n",
       "      <th></th>\n",
       "      <th>original_title</th>\n",
       "      <th>vote_average</th>\n",
       "    </tr>\n",
       "  </thead>\n",
       "  <tbody>\n",
       "    <tr>\n",
       "      <th>599</th>\n",
       "      <td>The Dark Knight</td>\n",
       "      <td>8.1</td>\n",
       "    </tr>\n",
       "    <tr>\n",
       "      <th>118</th>\n",
       "      <td>Interstellar</td>\n",
       "      <td>8.0</td>\n",
       "    </tr>\n",
       "    <tr>\n",
       "      <th>125</th>\n",
       "      <td>The Imitation Game</td>\n",
       "      <td>8.0</td>\n",
       "    </tr>\n",
       "    <tr>\n",
       "      <th>9</th>\n",
       "      <td>Inside Out</td>\n",
       "      <td>8.0</td>\n",
       "    </tr>\n",
       "    <tr>\n",
       "      <th>34</th>\n",
       "      <td>Room</td>\n",
       "      <td>8.0</td>\n",
       "    </tr>\n",
       "    <tr>\n",
       "      <th>1183</th>\n",
       "      <td>The Wolf of Wall Street</td>\n",
       "      <td>7.9</td>\n",
       "    </tr>\n",
       "    <tr>\n",
       "      <th>128</th>\n",
       "      <td>Gone Girl</td>\n",
       "      <td>7.9</td>\n",
       "    </tr>\n",
       "    <tr>\n",
       "      <th>1191</th>\n",
       "      <td>12 Years a Slave</td>\n",
       "      <td>7.9</td>\n",
       "    </tr>\n",
       "    <tr>\n",
       "      <th>119</th>\n",
       "      <td>Guardians of the Galaxy</td>\n",
       "      <td>7.9</td>\n",
       "    </tr>\n",
       "    <tr>\n",
       "      <th>1081</th>\n",
       "      <td>The Lord of the Rings: The Return of the King</td>\n",
       "      <td>7.9</td>\n",
       "    </tr>\n",
       "    <tr>\n",
       "      <th>1800</th>\n",
       "      <td>Memento</td>\n",
       "      <td>7.9</td>\n",
       "    </tr>\n",
       "    <tr>\n",
       "      <th>370</th>\n",
       "      <td>Inception</td>\n",
       "      <td>7.9</td>\n",
       "    </tr>\n",
       "    <tr>\n",
       "      <th>872</th>\n",
       "      <td>The Pianist</td>\n",
       "      <td>7.9</td>\n",
       "    </tr>\n",
       "    <tr>\n",
       "      <th>138</th>\n",
       "      <td>The Grand Budapest Hotel</td>\n",
       "      <td>7.9</td>\n",
       "    </tr>\n",
       "    <tr>\n",
       "      <th>1188</th>\n",
       "      <td>Her</td>\n",
       "      <td>7.8</td>\n",
       "    </tr>\n",
       "    <tr>\n",
       "      <th>28</th>\n",
       "      <td>Spotlight</td>\n",
       "      <td>7.8</td>\n",
       "    </tr>\n",
       "    <tr>\n",
       "      <th>124</th>\n",
       "      <td>Big Hero 6</td>\n",
       "      <td>7.8</td>\n",
       "    </tr>\n",
       "    <tr>\n",
       "      <th>177</th>\n",
       "      <td>The Fault in Our Stars</td>\n",
       "      <td>7.8</td>\n",
       "    </tr>\n",
       "    <tr>\n",
       "      <th>863</th>\n",
       "      <td>The Lord of the Rings: The Two Towers</td>\n",
       "      <td>7.8</td>\n",
       "    </tr>\n",
       "  </tbody>\n",
       "</table>\n",
       "</div>"
      ],
      "text/plain": [
       "                                     original_title  vote_average\n",
       "599                                 The Dark Knight           8.1\n",
       "118                                    Interstellar           8.0\n",
       "125                              The Imitation Game           8.0\n",
       "9                                        Inside Out           8.0\n",
       "34                                             Room           8.0\n",
       "1183                        The Wolf of Wall Street           7.9\n",
       "128                                       Gone Girl           7.9\n",
       "1191                               12 Years a Slave           7.9\n",
       "119                         Guardians of the Galaxy           7.9\n",
       "1081  The Lord of the Rings: The Return of the King           7.9\n",
       "1800                                        Memento           7.9\n",
       "370                                       Inception           7.9\n",
       "872                                     The Pianist           7.9\n",
       "138                        The Grand Budapest Hotel           7.9\n",
       "1188                                            Her           7.8\n",
       "28                                        Spotlight           7.8\n",
       "124                                      Big Hero 6           7.8\n",
       "177                          The Fault in Our Stars           7.8\n",
       "863           The Lord of the Rings: The Two Towers           7.8"
      ]
     },
     "execution_count": 686,
     "metadata": {},
     "output_type": "execute_result"
    }
   ],
   "source": [
    "#устанавливаем максимально выводимую длину элемента колонки и смотрим сэмпл\n",
    "pd.options.display.max_colwidth = 50\n",
    "data.head(1)\n",
    "\n",
    "#создаем дф из названия фильма и среднего балла, сортируем по ср.баллу по убыванию\n",
    "df = data[['original_title','vote_average']].sort_values(by='vote_average', ascending=False)\n",
    "#выводим первый % из дф, то есть 19 элементов \n",
    "df.iloc[0:19]"
   ]
  },
  {
   "cell_type": "markdown",
   "metadata": {
    "colab_type": "text",
    "id": "MdXsUXbCVqAV"
   },
   "source": [
    "# 27. Какие актеры чаще всего снимаются в одном фильме вместе?\n"
   ]
  },
  {
   "cell_type": "markdown",
   "metadata": {
    "colab_type": "text",
    "id": "4ymnxEVoVqAW"
   },
   "source": [
    "ВАРИАНТ 2"
   ]
  },
  {
   "cell_type": "markdown",
   "metadata": {
    "colab_type": "text",
    "id": "U0nONFnGVqAX"
   },
   "source": [
    "# Submission"
   ]
  },
  {
   "cell_type": "code",
   "execution_count": 0,
   "metadata": {
    "colab": {},
    "colab_type": "code",
    "id": "IfcaRO9-VqAX",
    "outputId": "0f132912-32bb-4196-c98c-abfbc4ad5a5f"
   },
   "outputs": [
    {
     "data": {
      "text/plain": [
       "{'1': '...', '2': '...'}"
      ]
     },
     "execution_count": 8,
     "metadata": {
      "tags": []
     },
     "output_type": "execute_result"
    }
   ],
   "source": [
    "# в конце можно посмотреть свои ответы к каждому вопросу\n",
    "answers"
   ]
  },
  {
   "cell_type": "code",
   "execution_count": 131,
   "metadata": {
    "colab": {},
    "colab_type": "code",
    "id": "SiRmHPl8VqAd"
   },
   "outputs": [
    {
     "data": {
      "text/plain": [
       "0"
      ]
     },
     "execution_count": 131,
     "metadata": {},
     "output_type": "execute_result"
    }
   ],
   "source": [
    "# и убедиться что ни чего не пропустил)\n",
    "\n",
    "len(answers)"
   ]
  },
  {
   "cell_type": "code",
   "execution_count": 183,
   "metadata": {},
   "outputs": [
    {
     "data": {
      "text/plain": [
       "(Daniel Radcliffe, Emma Watson)           8\n",
       "(Daniel Radcliffe, Rupert Grint)          8\n",
       "(Rupert Grint, Emma Watson)               7\n",
       "(Ben Stiller, Owen Wilson)                6\n",
       "(Johnny Depp, Helena Bonham Carter)       6\n",
       "                                         ..\n",
       "(Elisha Cuthbert, Pruitt Taylor Vince)    1\n",
       "(Eric Ladin, Gabriel Bateman)             1\n",
       "(Steve Zahn, Stuart Stone)                1\n",
       "(Nicholas Tse, Wu Jing)                   1\n",
       "(Steve Carell, Julie Andrews)             1\n",
       "Name: cast, Length: 18121, dtype: int64"
      ]
     },
     "execution_count": 183,
     "metadata": {},
     "output_type": "execute_result"
    }
   ],
   "source": [
    "#импортируем метод из библиотеки\n",
    "from itertools import combinations\n",
    "\n",
    "#создаем дф с актерами\n",
    "df = data['cast']\n",
    "\n",
    "#создаем функцию для вывода списка уникальных пар\n",
    "def pairs(s):\n",
    "    return list(combinations(s.split('|'), 2))\n",
    "\n",
    "#копируем дф с колонкой актеров \n",
    "df = data[['cast']].copy()\n",
    "\n",
    "#применяем функцию к колонке актеров\n",
    "df['cast'] = df.cast.apply(pairs)\n",
    "\n",
    "#взырваем колонку на строки\n",
    "df = df.explode('cast')\n",
    "\n",
    "#создаем новый дф и считаем к-во повторений уникальных пар актеров\n",
    "df = df.cast.value_counts()\n",
    "\n",
    "df"
   ]
  },
  {
   "cell_type": "code",
   "execution_count": null,
   "metadata": {},
   "outputs": [],
   "source": []
  }
 ],
 "metadata": {
  "colab": {
   "name": "Copy of [SF-DST] Movies IMBD v4.1 TEMPLATE.ipynb",
   "provenance": []
  },
  "kernelspec": {
   "display_name": "Python 3",
   "language": "python",
   "name": "python3"
  },
  "language_info": {
   "codemirror_mode": {
    "name": "ipython",
    "version": 3
   },
   "file_extension": ".py",
   "mimetype": "text/x-python",
   "name": "python",
   "nbconvert_exporter": "python",
   "pygments_lexer": "ipython3",
   "version": "3.8.5"
  }
 },
 "nbformat": 4,
 "nbformat_minor": 1
}
